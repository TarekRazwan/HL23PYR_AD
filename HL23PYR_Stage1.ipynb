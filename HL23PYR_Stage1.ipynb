{
 "cells": [
  {
   "cell_type": "code",
   "execution_count": 1,
   "metadata": {},
   "outputs": [],
   "source": [
    "# HL23PYR Stage 1: Healthy Neuron Simulation and Validation\n",
    "\n",
    "# ✅ Goal: Simulate the healthy HL23PYR neuron using NetPyNE/NEURON,\n",
    "# run current injection protocol (170–310 pA), extract features with EFEL,\n",
    "# and compare to AllenDB human data (Cell ID: 531526539)."
   ]
  },
  {
   "cell_type": "code",
   "execution_count": null,
   "metadata": {},
   "outputs": [],
   "source": [
    "# --- Imports and Setup ---\n",
    "\n",
    "from netpyne import specs\n",
    "from netpyne import sim\n",
    "from neuron import h\n",
    "import matplotlib.pyplot as plt\n",
    "import numpy as np\n",
    "import efel\n",
    "import os"
   ]
  },
  {
   "cell_type": "code",
   "execution_count": null,
   "metadata": {},
   "outputs": [],
   "source": [
    "!nrnivmodl"
   ]
  },
  {
   "cell_type": "code",
   "execution_count": 4,
   "metadata": {},
   "outputs": [],
   "source": [
    "# # --- Load compiled mod mechanisms ---\n",
    "# dll_path = './arm64/libnrnmech.dylib'\n",
    "# if os.path.isfile(dll_path):\n",
    "#     h.nrn_load_dll(dll_path)\n",
    "# else:\n",
    "#     raise RuntimeError(f\"Missing NEURON mechanisms at {dll_path}. Run `nrnivmodl`.\")"
   ]
  },
  {
   "cell_type": "code",
   "execution_count": null,
   "metadata": {},
   "outputs": [],
   "source": [
    "# --- Define NetParams and Load HL23PYR Cell ---\n",
    "netParams = specs.NetParams()\n",
    "cellName = 'HL23PYR'\n",
    "cellRule = netParams.importCellParams(\n",
    "    label=cellName,\n",
    "    conds={'cellType': cellName, 'cellModel': 'HH_full'},\n",
    "    fileName='cellwrapper.py',\n",
    "    cellName='loadCell_' + cellName,\n",
    "    cellArgs={'cellName': cellName},\n",
    "    cellInstance=True,\n",
    "    somaAtOrigin=False)"
   ]
  },
  {
   "cell_type": "code",
   "execution_count": null,
   "metadata": {},
   "outputs": [],
   "source": [
    "# --- Define SimConfig ---\n",
    "simConfig = specs.SimConfig()\n",
    "simConfig.duration = 500  # ms\n",
    "simConfig.dt = 0.025\n",
    "simConfig.verbose = False\n",
    "simConfig.recordTraces = {'V_soma': {'sec': 'soma', 'loc': 0.5, 'var': 'v'}}\n",
    "simConfig.recordStep = 0.1\n",
    "simConfig.filename = 'HL23PYR_stage1'"
   ]
  },
  {
   "cell_type": "code",
   "execution_count": null,
   "metadata": {},
   "outputs": [],
   "source": [
    "# --- Run multiple current injections (sweeps 45–52 = 170–310 pA) ---\n",
    "step_amps = np.arange(170, 311, 20)  # pA\n",
    "responses = []\n",
    "\n",
    "for amp in step_amps:\n",
    "    stim = h.IClamp(sim.net.cells[0].secDict['soma'][0])\n",
    "    stim.delay = 100\n",
    "    stim.dur = 300\n",
    "    stim.amp = amp / 1000  # convert pA to nA\n",
    "    sim.runSim()\n",
    "    sim.gatherData()\n",
    "    V = sim.simData['V_soma']\n",
    "    t = sim.simData['t']\n",
    "    responses.append({'amp': amp, 't': t.copy(), 'V': V.copy()})"
   ]
  },
  {
   "cell_type": "code",
   "execution_count": null,
   "metadata": {},
   "outputs": [],
   "source": [
    "# --- Plot Voltage Responses ---\n",
    "plt.figure(figsize=(10, 6))\n",
    "for r in responses:\n",
    "    plt.plot(r['t'], r['V'], label=f\"{r['amp']} pA\")\n",
    "plt.xlabel('Time (ms)')\n",
    "plt.ylabel('Vm (mV)')\n",
    "plt.title('HL23PYR Voltage Responses to Step Currents')\n",
    "plt.legend()\n",
    "plt.show()"
   ]
  },
  {
   "cell_type": "code",
   "execution_count": null,
   "metadata": {},
   "outputs": [],
   "source": [
    "# --- Prepare EFEL Input for Feature Extraction ---\n",
    "ef_features = []\n",
    "for r in responses:\n",
    "    ef_dict = {\n",
    "        'stim_start': [100],\n",
    "        'stim_end': [400],\n",
    "        'T': r['t'],\n",
    "        'V': r['V'],\n",
    "        'stimulus_current': [r['amp'] / 1000],\n",
    "    }\n",
    "    ef_features.append(ef_dict)"
   ]
  },
  {
   "cell_type": "code",
   "execution_count": null,
   "metadata": {},
   "outputs": [],
   "source": [
    "# --- Extract EFEL Features ---\n",
    "feature_names = [\n",
    "    'peak_voltage', 'AP_amplitude', 'AP_width',\n",
    "    'adaptation_index', 'sag_ratio2', 'voltage_base',\n",
    "    'mean_frequency', 'time_to_first_spike'\n",
    "]\n",
    "results = efel.getMeanFeatureValues(ef_features, feature_names)"
   ]
  },
  {
   "cell_type": "code",
   "execution_count": null,
   "metadata": {},
   "outputs": [],
   "source": [
    "# --- Print Extracted Features ---\n",
    "for i, r in enumerate(results):\n",
    "    print(f\"\\nSweep {step_amps[i]} pA:\")\n",
    "    for feat, val in r.items():\n",
    "        print(f\"  {feat}: {val}\")"
   ]
  }
 ],
 "metadata": {
  "kernelspec": {
   "display_name": "netpyne",
   "language": "python",
   "name": "python3"
  },
  "language_info": {
   "codemirror_mode": {
    "name": "ipython",
    "version": 3
   },
   "file_extension": ".py",
   "mimetype": "text/x-python",
   "name": "python",
   "nbconvert_exporter": "python",
   "pygments_lexer": "ipython3",
   "version": "3.8.19"
  }
 },
 "nbformat": 4,
 "nbformat_minor": 2
}
